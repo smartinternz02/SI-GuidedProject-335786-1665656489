{
  "cells": [
    {
      "cell_type": "code",
      "execution_count": null,
      "metadata": {
        "id": "frC5p3nJAl6R"
      },
      "outputs": [],
      "source": [
        "!pip install jupyterthemes"
      ]
    },
    {
      "cell_type": "code",
      "execution_count": null,
      "metadata": {
        "id": "12HUarmAAf0v"
      },
      "outputs": [],
      "source": [
        "!jt -t monokai -f fira -fs 13 -nf ptsans -nfs 10 -N -kl -cursw 5 -cursc r -cellw 80% -T"
      ]
    },
    {
      "cell_type": "code",
      "execution_count": null,
      "metadata": {
        "id": "JHI50Ut6A2JN"
      },
      "outputs": [],
      "source": [
        "#import required libraries\n",
        "\n",
        "#import pandas library\n",
        "import pandas as pd\n",
        "#import numpy\n",
        "import numpy as np\n",
        "#import requests\n",
        "import requests\n",
        "#import io\n",
        "import io"
      ]
    },
    {
      "cell_type": "code",
      "execution_count": null,
      "metadata": {
        "id": "tmAFpKILt9jx"
      },
      "outputs": [],
      "source": [
        "from google.colab import drive\n",
        "\n",
        "drive.mount('/content/gdrive/', force_remount=True)"
      ]
    },
    {
      "cell_type": "code",
      "execution_count": null,
      "metadata": {
        "id": "NiXtHTtcCGGR"
      },
      "outputs": [],
      "source": [
        "#import the dataset in the data variable\n",
        "url='/content/gdrive/MyDrive/kindle_reviews.csv'\n",
        "data = pd.read_csv(url)"
      ]
    },
    {
      "cell_type": "code",
      "execution_count": null,
      "metadata": {
        "id": "HstwcTD8BLby"
      },
      "outputs": [],
      "source": [
        "data.shape"
      ]
    },
    {
      "cell_type": "code",
      "execution_count": null,
      "metadata": {
        "id": "vM1ozjugBNwE"
      },
      "outputs": [],
      "source": [
        "data.head()"
      ]
    },
    {
      "cell_type": "code",
      "execution_count": null,
      "metadata": {
        "id": "AFNytlWaCSWE"
      },
      "outputs": [],
      "source": [
        "#assigning 50000 rows to data\n",
        "data=data.head(50000)"
      ]
    },
    {
      "cell_type": "code",
      "execution_count": null,
      "metadata": {
        "id": "rsJXQX-JCXQb"
      },
      "outputs": [],
      "source": [
        "#checking for null values\n",
        "data.isnull().any()"
      ]
    },
    {
      "cell_type": "code",
      "execution_count": null,
      "metadata": {
        "id": "2J-JRTEJCao1"
      },
      "outputs": [],
      "source": [
        "data.isnull().sum()"
      ]
    },
    {
      "cell_type": "code",
      "execution_count": null,
      "metadata": {
        "id": "jov4ux6zCc17"
      },
      "outputs": [],
      "source": [
        "#deleting or dropping the unwanted columns from the dataset\n",
        "del data['Unnamed: 0']\n",
        "del data['asin']\n",
        "del data['helpful']\n",
        "del data['reviewTime']\n",
        "del data['reviewerID']\n",
        "del data['reviewerName']\n",
        "del data['unixReviewTime']"
      ]
    },
    {
      "cell_type": "code",
      "execution_count": null,
      "metadata": {
        "id": "mjh88UMICgAT"
      },
      "outputs": [],
      "source": [
        "#first 10 rows of data\n",
        "data.head(10)"
      ]
    },
    {
      "cell_type": "code",
      "execution_count": null,
      "metadata": {
        "id": "OLG5EwMSCh91"
      },
      "outputs": [],
      "source": [
        "#checking value counts\n",
        "data.overall.value_counts()"
      ]
    },
    {
      "cell_type": "code",
      "execution_count": null,
      "metadata": {
        "id": "7vmBG9o0Cknw"
      },
      "outputs": [],
      "source": [
        "#check the null values\n",
        "data.isna().sum()"
      ]
    },
    {
      "cell_type": "code",
      "execution_count": null,
      "metadata": {
        "id": "DfS_aEesCmcI"
      },
      "outputs": [],
      "source": [
        "#joining review description and summary into one col\n",
        "data['reviewText']=data['reviewText']+\" \"+data['summary']"
      ]
    },
    {
      "cell_type": "code",
      "execution_count": null,
      "metadata": {
        "id": "lCv9YH89CoZg"
      },
      "outputs": [],
      "source": [
        "data.head()"
      ]
    },
    {
      "cell_type": "code",
      "execution_count": null,
      "metadata": {
        "id": "jSzNyz6xCrh-"
      },
      "outputs": [],
      "source": [
        "data.drop(['summary'],axis=1,inplace=True)"
      ]
    },
    {
      "cell_type": "code",
      "execution_count": null,
      "metadata": {
        "id": "txpuy80PCt8n"
      },
      "outputs": [],
      "source": [
        "#checking for null values\n",
        "data.isna().sum()"
      ]
    },
    {
      "cell_type": "code",
      "execution_count": null,
      "metadata": {
        "id": "IsLWr7kKCwL-"
      },
      "outputs": [],
      "source": [
        "#since there is only one null value, replace it with blank space\n",
        "data['reviewText'].fillna(\"\",inplace = True)"
      ]
    },
    {
      "cell_type": "code",
      "execution_count": null,
      "metadata": {
        "id": "e6yPdQjICzFq"
      },
      "outputs": [],
      "source": [
        "#Grouping the overall rating of scale 1-5 to 2 categories\n",
        "def review_sentiment(rating):\n",
        "    #0(positive) and  with 1(negative) \n",
        "    if(rating == 5 or rating == 4 or rating==3):\n",
        "        return 0\n",
        "    else:\n",
        "        return 1"
      ]
    },
    {
      "cell_type": "code",
      "execution_count": null,
      "metadata": {
        "id": "kH_xsj1UC28a"
      },
      "outputs": [],
      "source": [
        "data.overall = data.overall.apply(review_sentiment)"
      ]
    },
    {
      "cell_type": "code",
      "execution_count": null,
      "metadata": {
        "id": "kVOTwm40C5ND"
      },
      "outputs": [],
      "source": [
        "data.overall.value_counts()"
      ]
    },
    {
      "cell_type": "code",
      "execution_count": null,
      "metadata": {
        "id": "tA0R2GhqC6ov"
      },
      "outputs": [],
      "source": [
        "data.head(50)"
      ]
    },
    {
      "cell_type": "code",
      "execution_count": null,
      "metadata": {
        "id": "mYigk8mJC8g6"
      },
      "outputs": [],
      "source": [
        "len(list(data['overall']))"
      ]
    },
    {
      "cell_type": "code",
      "execution_count": null,
      "metadata": {
        "id": "LXrVoIeCC_em"
      },
      "outputs": [],
      "source": [
        "x=data.iloc[:,1].values"
      ]
    },
    {
      "cell_type": "code",
      "execution_count": null,
      "metadata": {
        "id": "y3zZQdZLDGZn"
      },
      "outputs": [],
      "source": [
        "#import natural language toolkit\n",
        "import nltk\n",
        "#nltk.download(\"stopwords\")\n",
        "#nltk.download(\"wordnet\")\n",
        "#import stopwords library to remove stopwords\n",
        "from nltk.corpus import stopwords\n",
        "#library used for stem the words\n",
        "from nltk.stem.porter import PorterStemmer\n",
        "#create an object for stemming\n",
        "ps = PorterStemmer()\n",
        "#library used for stem the words\n",
        "from nltk.stem import WordNetLemmatizer\n",
        "#create an object for wordnet lemmatizer\n",
        "wordnet=WordNetLemmatizer()"
      ]
    },
    {
      "cell_type": "code",
      "execution_count": null,
      "metadata": {
        "id": "OkMrIaSdDI_9"
      },
      "outputs": [],
      "source": [
        "import re"
      ]
    },
    {
      "cell_type": "code",
      "execution_count": null,
      "metadata": {
        "id": "hFG6RU4SupXp"
      },
      "outputs": [],
      "source": [
        "import nltk\n",
        "nltk.download('all')"
      ]
    },
    {
      "cell_type": "code",
      "execution_count": null,
      "metadata": {
        "id": "a-TgEByoDLA_"
      },
      "outputs": [],
      "source": [
        "import nltk\n",
        "nltk.download(\"stopwords\")\n",
        "nltk.download(\"wordnet\")"
      ]
    },
    {
      "cell_type": "code",
      "execution_count": 30,
      "metadata": {
        "id": "OwvdLfT_DM1t"
      },
      "outputs": [],
      "source": [
        " # Initialize empty array to append clean text \n",
        "corpus=[]\n",
        "# no of rows to clean \n",
        "for i in range(len(x)):\n",
        "    #replacing punctuations and numbers using re library \n",
        "    temp=re.sub('[^a-zA-Z]',' ',x[i])\n",
        "    # convert all text to lower cases\n",
        "    temp=temp.lower()\n",
        "    # split to array(default delimiter is \" \") \n",
        "    temp=temp.split()\n",
        "    # creating WordNetLemmatizer object to take main lemma of each word\n",
        "    wordnet = WordNetLemmatizer()\n",
        "    #loop for leammatization each word in string array at ith row \n",
        "    temp=[wordnet.lemmatize(word) for word in temp if not word in set(\n",
        "        stopwords.words('english'))]\n",
        "    #rejoin all string array elements to create back into a string \n",
        "    temp=' '.join(temp)\n",
        "    #append each string to create array of clean text \n",
        "    corpus.append(temp)"
      ]
    },
    {
      "cell_type": "code",
      "execution_count": 31,
      "metadata": {
        "id": "g8FemZWZvVRx",
        "colab": {
          "base_uri": "https://localhost:8080/"
        },
        "outputId": "b3e1bdbd-e986-42a1-c5de-d7216a76b8a2"
      },
      "outputs": [
        {
          "output_type": "stream",
          "name": "stdout",
          "text": [
            "Looking in indexes: https://pypi.org/simple, https://us-python.pkg.dev/colab-wheels/public/simple/\n",
            "Collecting sklearn\n",
            "  Downloading sklearn-0.0.post1.tar.gz (3.6 kB)\n",
            "Building wheels for collected packages: sklearn\n",
            "  Building wheel for sklearn (setup.py) ... \u001b[?25l\u001b[?25hdone\n",
            "  Created wheel for sklearn: filename=sklearn-0.0.post1-py3-none-any.whl size=2344 sha256=49b1a2f5c153d3758e6ca30e85d9cbb3d987e7ad5a74ce89b6bd716884fd41b3\n",
            "  Stored in directory: /root/.cache/pip/wheels/42/56/cc/4a8bf86613aafd5b7f1b310477667c1fca5c51c3ae4124a003\n",
            "Successfully built sklearn\n",
            "Installing collected packages: sklearn\n",
            "Successfully installed sklearn-0.0.post1\n"
          ]
        }
      ],
      "source": [
        "!pip install sklearn"
      ]
    },
    {
      "cell_type": "code",
      "execution_count": 32,
      "metadata": {
        "id": "JZ2itGbdDmjO"
      },
      "outputs": [],
      "source": [
        "#creating bag of word model\n",
        "from sklearn.feature_extraction.text import CountVectorizer\n",
        "#To extract max feature, \"max_features\" is attribute to \n",
        "#experiment with to get better results\n",
        "cv=CountVectorizer(max_features= 6000)\n",
        "#z contains vectorized data (independent variable) \n",
        "z=cv.fit_transform(corpus).toarray()"
      ]
    },
    {
      "cell_type": "code",
      "execution_count": null,
      "metadata": {
        "id": "8ZFq98DUDpPp"
      },
      "outputs": [],
      "source": [
        "z.shape"
      ]
    },
    {
      "cell_type": "code",
      "execution_count": 34,
      "metadata": {
        "colab": {
          "base_uri": "https://localhost:8080/"
        },
        "id": "nOpWkwjqD76D",
        "outputId": "f2ce9919-10a6-4002-c43d-58158a07a81a"
      },
      "outputs": [
        {
          "output_type": "execute_result",
          "data": {
            "text/plain": [
              "['amazo.save']"
            ]
          },
          "metadata": {},
          "execution_count": 34
        }
      ],
      "source": [
        "#save bag of word model\n",
        "import joblib\n",
        "joblib.dump(cv.vocabulary_,\"amazo.save\")"
      ]
    },
    {
      "cell_type": "code",
      "execution_count": 35,
      "metadata": {
        "colab": {
          "base_uri": "https://localhost:8080/"
        },
        "id": "BGYFTffeECXE",
        "outputId": "18e04ea9-84bc-4ae0-9fd0-f90acd243428"
      },
      "outputs": [
        {
          "output_type": "execute_result",
          "data": {
            "text/plain": [
              "array([0, 0, 0, ..., 0, 0, 0])"
            ]
          },
          "metadata": {},
          "execution_count": 35
        }
      ],
      "source": [
        "y=data.iloc[:,0].values\n",
        "y"
      ]
    },
    {
      "cell_type": "code",
      "execution_count": 36,
      "metadata": {
        "id": "scXQx6OEIZqn"
      },
      "outputs": [],
      "source": [
        "from sklearn.model_selection import train_test_split\n",
        "x_train,x_test,y_train,y_test=train_test_split(z,y,test_size=0.2,random_state=0)"
      ]
    },
    {
      "cell_type": "code",
      "execution_count": 37,
      "metadata": {
        "colab": {
          "base_uri": "https://localhost:8080/"
        },
        "id": "WnubKaiMEGUv",
        "outputId": "5162fa0b-7c11-4164-d14d-d26b2f1c3b75"
      },
      "outputs": [
        {
          "output_type": "execute_result",
          "data": {
            "text/plain": [
              "(40000, 6000)"
            ]
          },
          "metadata": {},
          "execution_count": 37
        }
      ],
      "source": [
        "x_train.shape"
      ]
    },
    {
      "cell_type": "code",
      "execution_count": 38,
      "metadata": {
        "colab": {
          "base_uri": "https://localhost:8080/"
        },
        "id": "hAbdx3ouOyQd",
        "outputId": "315afd07-1a03-4b4d-e876-91ec6eece167"
      },
      "outputs": [
        {
          "output_type": "execute_result",
          "data": {
            "text/plain": [
              "(10000, 6000)"
            ]
          },
          "metadata": {},
          "execution_count": 38
        }
      ],
      "source": [
        "x_test.shape"
      ]
    },
    {
      "cell_type": "code",
      "execution_count": 39,
      "metadata": {
        "colab": {
          "base_uri": "https://localhost:8080/"
        },
        "id": "wIY6VrajPAJu",
        "outputId": "37470637-7035-41c3-d824-f0d21d06b675"
      },
      "outputs": [
        {
          "output_type": "execute_result",
          "data": {
            "text/plain": [
              "(50000, 6000)"
            ]
          },
          "metadata": {},
          "execution_count": 39
        }
      ],
      "source": [
        "z.shape"
      ]
    },
    {
      "cell_type": "code",
      "execution_count": 40,
      "metadata": {
        "id": "-E34CREDPEQx"
      },
      "outputs": [],
      "source": [
        "#import libraries\n",
        "import tensorflow\n",
        "import keras\n",
        "#import Sequential\n",
        "from tensorflow.keras.models import Sequential\n",
        "#import Dense\n",
        "from tensorflow.keras.layers import Dense"
      ]
    },
    {
      "cell_type": "code",
      "execution_count": null,
      "metadata": {
        "id": "RWCnFgA_PGig"
      },
      "outputs": [],
      "source": [
        "#intialize the model\n",
        "model=Sequential()\n",
        "\n",
        "#adding input layer\n",
        "model.add(Dense(600,kernel_initializer='random_uniform',\n",
        "                activation='relu'))\n",
        "\n",
        "#adding hidden layer\n",
        "model.add(Dense(100,kernel_initializer='random_uniform',\n",
        "                activation='relu'))\n",
        "\n",
        "#adding output layer\n",
        "model.add(Dense(1,kernel_initializer='random_uniform',\n",
        "                activation='sigmoid'))\n",
        "\n",
        "#configure the learning process\n",
        "model.compile(optimizer='adam',loss='binary_crossentropy',\n",
        "              metrics=['accuracy'])"
      ]
    },
    {
      "cell_type": "code",
      "execution_count": 42,
      "metadata": {
        "colab": {
          "base_uri": "https://localhost:8080/"
        },
        "id": "Qbw5JIVUPJ-p",
        "outputId": "7e5dad67-438d-4a13-f81e-cb11cb3a1fae"
      },
      "outputs": [
        {
          "output_type": "stream",
          "name": "stdout",
          "text": [
            "[[0 0 0 ... 0 0 0]\n",
            " [0 0 0 ... 0 0 0]\n",
            " [0 0 0 ... 0 0 0]\n",
            " ...\n",
            " [0 0 0 ... 0 0 0]\n",
            " [0 0 0 ... 0 0 0]\n",
            " [0 0 0 ... 0 0 0]]\n"
          ]
        }
      ],
      "source": [
        "print(x_train)"
      ]
    },
    {
      "cell_type": "code",
      "execution_count": null,
      "metadata": {
        "colab": {
          "base_uri": "https://localhost:8080/"
        },
        "id": "w8nPjB-ZPMPL",
        "outputId": "a62d4493-731f-496d-bcf0-ea42c8e7d0d3"
      },
      "outputs": [
        {
          "output_type": "stream",
          "name": "stdout",
          "text": [
            "Epoch 1/20\n",
            "1250/1250 [==============================] - 42s 32ms/step - loss: 0.2031 - accuracy: 0.9240\n",
            "Epoch 2/20\n",
            "1250/1250 [==============================] - 40s 32ms/step - loss: 0.1118 - accuracy: 0.9572\n",
            "Epoch 3/20\n",
            "1250/1250 [==============================] - 39s 31ms/step - loss: 0.0406 - accuracy: 0.9863\n",
            "Epoch 4/20\n",
            "1250/1250 [==============================] - 42s 33ms/step - loss: 0.0076 - accuracy: 0.9977\n",
            "Epoch 5/20\n",
            "1250/1250 [==============================] - 39s 31ms/step - loss: 0.0020 - accuracy: 0.9996\n",
            "Epoch 6/20\n",
            "1250/1250 [==============================] - 40s 32ms/step - loss: 0.0034 - accuracy: 0.9995\n",
            "Epoch 7/20\n",
            "1250/1250 [==============================] - 40s 32ms/step - loss: 2.0488e-04 - accuracy: 1.0000\n",
            "Epoch 8/20\n",
            "1250/1250 [==============================] - 41s 33ms/step - loss: 1.4269e-05 - accuracy: 1.0000\n",
            "Epoch 9/20\n",
            "1250/1250 [==============================] - 39s 31ms/step - loss: 5.0241e-06 - accuracy: 1.0000\n",
            "Epoch 10/20\n",
            "1250/1250 [==============================] - 40s 32ms/step - loss: 1.9481e-06 - accuracy: 1.0000\n",
            "Epoch 11/20\n",
            "1250/1250 [==============================] - 41s 33ms/step - loss: 8.4812e-07 - accuracy: 1.0000\n",
            "Epoch 12/20\n",
            "1250/1250 [==============================] - 42s 33ms/step - loss: 4.0084e-07 - accuracy: 1.0000\n",
            "Epoch 13/20\n",
            "1250/1250 [==============================] - 41s 33ms/step - loss: 1.9626e-07 - accuracy: 1.0000\n",
            "Epoch 14/20\n",
            "1250/1250 [==============================] - 40s 32ms/step - loss: 9.8170e-08 - accuracy: 1.0000\n",
            "Epoch 15/20\n",
            "1250/1250 [==============================] - 40s 32ms/step - loss: 5.1475e-08 - accuracy: 1.0000\n",
            "Epoch 16/20\n",
            "1250/1250 [==============================] - 42s 34ms/step - loss: 2.8199e-08 - accuracy: 1.0000\n",
            "Epoch 17/20\n",
            "1250/1250 [==============================] - 41s 32ms/step - loss: 1.6036e-08 - accuracy: 1.0000\n",
            "Epoch 18/20\n",
            "1250/1250 [==============================] - 40s 32ms/step - loss: 9.4232e-09 - accuracy: 1.0000\n",
            "Epoch 19/20\n",
            "1250/1250 [==============================] - 42s 34ms/step - loss: 5.7421e-09 - accuracy: 1.0000\n",
            "Epoch 20/20\n",
            " 692/1250 [===============>..............] - ETA: 17s - loss: 3.8254e-09 - accuracy: 1.0000"
          ]
        }
      ],
      "source": [
        "#training the model\n",
        "model.fit(x_train,y_train,epochs=20,batch_size=32)"
      ]
    },
    {
      "cell_type": "code",
      "execution_count": null,
      "metadata": {
        "id": "qi9sNGSfPaOo"
      },
      "outputs": [],
      "source": [
        "#save the model\n",
        "model.save(\"amazo.h5\")"
      ]
    },
    {
      "cell_type": "code",
      "execution_count": 45,
      "metadata": {
        "colab": {
          "base_uri": "https://localhost:8080/"
        },
        "id": "XFYGQJlDPpLZ",
        "outputId": "409e2f98-444e-4758-eebe-bf7eaf180d6c"
      },
      "outputs": [
        {
          "metadata": {
            "tags": null
          },
          "name": "stdout",
          "output_type": "stream",
          "text": [
            "313/313 [==============================] - 6s 18ms/step\n"
          ]
        }
      ],
      "source": [
        "ypred=model.predict(x_test)"
      ]
    },
    {
      "cell_type": "code",
      "execution_count": 46,
      "metadata": {
        "colab": {
          "base_uri": "https://localhost:8080/"
        },
        "id": "LE2iw8fQPrUA",
        "outputId": "d1999787-b388-4f03-b642-b5e8dae015ca"
      },
      "outputs": [
        {
          "data": {
            "text/plain": [
              "array([[4.5889658e-38],\n",
              "       [6.6511050e-30],\n",
              "       [4.0586614e-28],\n",
              "       ...,\n",
              "       [0.0000000e+00],\n",
              "       [0.0000000e+00],\n",
              "       [1.3945101e-10]], dtype=float32)"
            ]
          },
          "execution_count": 46,
          "metadata": {},
          "output_type": "execute_result"
        }
      ],
      "source": [
        "ypred"
      ]
    },
    {
      "cell_type": "code",
      "execution_count": 47,
      "metadata": {
        "colab": {
          "base_uri": "https://localhost:8080/"
        },
        "id": "nbs9E1R7Pt4o",
        "outputId": "ffe9bc53-4cd0-44bd-a8a5-9fda9e93d7eb"
      },
      "outputs": [
        {
          "data": {
            "text/plain": [
              "['amazo.save']"
            ]
          },
          "execution_count": 47,
          "metadata": {},
          "output_type": "execute_result"
        }
      ],
      "source": [
        "#save bag of word model\n",
        "import joblib\n",
        "joblib.dump(cv.vocabulary_,\"amazo.save\")"
      ]
    },
    {
      "cell_type": "code",
      "execution_count": 48,
      "metadata": {
        "id": "uTUadM_3PwQk"
      },
      "outputs": [],
      "source": [
        "loaded=CountVectorizer(decode_error='replace',vocabulary=joblib.load('amazo.save'))"
      ]
    },
    {
      "cell_type": "code",
      "execution_count": 49,
      "metadata": {
        "colab": {
          "base_uri": "https://localhost:8080/"
        },
        "id": "xspoLXMCP1b-",
        "outputId": "5fd629b1-086d-427c-9ce0-28cf2ff29e34"
      },
      "outputs": [
        {
          "metadata": {
            "tags": null
          },
          "name": "stdout",
          "output_type": "stream",
          "text": [
            "1/1 [==============================] - 0s 113ms/step\n",
            "[[2.5766094e-05]]\n",
            "Positive review\n"
          ]
        }
      ],
      "source": [
        "d=\"Writing was good\"\n",
        "d=d.split('delimiter')\n",
        "result=model.predict(loaded.transform(d))\n",
        "print(result)\n",
        "prediction=result>0.5\n",
        "#print(prediction)\n",
        "if prediction[0] == False:\n",
        "    print(\"Positive review\")\n",
        "elif prediction[0] == True:\n",
        "    print(\"Negative review\")\n"
      ]
    },
    {
      "cell_type": "code",
      "execution_count": 50,
      "metadata": {
        "id": "q2RGwKC8P5Ca"
      },
      "outputs": [],
      "source": [
        "from tensorflow.keras.models import load_model\n",
        "model=tensorflow.keras.models.load_model(\"amazo.h5\")"
      ]
    },
    {
      "cell_type": "code",
      "execution_count": 51,
      "metadata": {
        "id": "BBK2aWzzP9Zh"
      },
      "outputs": [],
      "source": [
        "#import load_model function\n",
        "from tensorflow.keras.models import load_model\n",
        "#load our saved model file\n",
        "model=tensorflow.keras.models.load_model(\"amazo.h5\")\n",
        "#import countvecorizer\n",
        "from sklearn.feature_extraction.text import CountVectorizer\n",
        "import joblib\n",
        "#load saved bag of word model file\n",
        "loaded=CountVectorizer(decode_error='replace',vocabulary=joblib.load('amazo.save'))"
      ]
    },
    {
      "cell_type": "code",
      "execution_count": 52,
      "metadata": {
        "colab": {
          "base_uri": "https://localhost:8080/"
        },
        "id": "Pgu0KZrRP_vB",
        "outputId": "30d43130-d1a7-4776-ac2c-b4a1523ccd52"
      },
      "outputs": [
        {
          "metadata": {
            "tags": null
          },
          "name": "stdout",
          "output_type": "stream",
          "text": [
            "1/1 [==============================] - 0s 91ms/step\n",
            "[[1.7416578e-09]]\n",
            "Positive review\n"
          ]
        }
      ],
      "source": [
        "d=\"good with application\"\n",
        "d=d.split('delimiter')\n",
        "result=model.predict(loaded.transform(d))\n",
        "print(result)\n",
        "prediction=result>0.5\n",
        "#print(prediction)\n",
        "if prediction[0] == False:\n",
        "    print(\"Positive review\")\n",
        "elif prediction[0] == True:\n",
        "    print(\"Negative review\")"
      ]
    }
  ],
  "metadata": {
    "colab": {
      "provenance": []
    },
    "kernelspec": {
      "display_name": "Python 3",
      "name": "python3"
    },
    "language_info": {
      "name": "python"
    }
  },
  "nbformat": 4,
  "nbformat_minor": 0
}